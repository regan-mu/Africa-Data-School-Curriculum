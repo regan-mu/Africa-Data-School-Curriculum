{
 "cells": [
  {
   "cell_type": "markdown",
   "id": "3f5c058d",
   "metadata": {},
   "source": [
    "## Data Analysis with SQL.\n",
    "* In this session we'll attempt to analyse data and answer some business questions with SQL.\n",
    "* We are going to use the [database](https://github.com/lerocha/chinook-database) for this session.\n",
    "* It contains information about a fictional digital music shop.\n",
    "\n",
    "**DATABASE SCHEMA**\n",
    "<img src=\"./images/chinook-schema.svg\" alt=\"Chinook db schema\" width=\"400px\" height=\"200px\">"
   ]
  },
  {
   "cell_type": "code",
   "execution_count": 5,
   "id": "e8fdd4a2",
   "metadata": {},
   "outputs": [],
   "source": [
    "%%capture\n",
    "%load_ext sql\n",
    "%sql sqlite:///chinook.db"
   ]
  },
  {
   "cell_type": "markdown",
   "id": "c37c84eb",
   "metadata": {},
   "source": [
    "### Database summary"
   ]
  },
  {
   "cell_type": "code",
   "execution_count": 6,
   "id": "2d2560c9",
   "metadata": {},
   "outputs": [
    {
     "name": "stdout",
     "output_type": "stream",
     "text": [
      " * sqlite:///chinook.db\n",
      "Done.\n"
     ]
    },
    {
     "data": {
      "text/html": [
       "<table>\n",
       "    <thead>\n",
       "        <tr>\n",
       "            <th>name</th>\n",
       "            <th>type</th>\n",
       "        </tr>\n",
       "    </thead>\n",
       "    <tbody>\n",
       "        <tr>\n",
       "            <td>album</td>\n",
       "            <td>table</td>\n",
       "        </tr>\n",
       "        <tr>\n",
       "            <td>artist</td>\n",
       "            <td>table</td>\n",
       "        </tr>\n",
       "        <tr>\n",
       "            <td>customer</td>\n",
       "            <td>table</td>\n",
       "        </tr>\n",
       "        <tr>\n",
       "            <td>employee</td>\n",
       "            <td>table</td>\n",
       "        </tr>\n",
       "        <tr>\n",
       "            <td>genre</td>\n",
       "            <td>table</td>\n",
       "        </tr>\n",
       "        <tr>\n",
       "            <td>invoice</td>\n",
       "            <td>table</td>\n",
       "        </tr>\n",
       "        <tr>\n",
       "            <td>invoice_line</td>\n",
       "            <td>table</td>\n",
       "        </tr>\n",
       "        <tr>\n",
       "            <td>media_type</td>\n",
       "            <td>table</td>\n",
       "        </tr>\n",
       "        <tr>\n",
       "            <td>playlist</td>\n",
       "            <td>table</td>\n",
       "        </tr>\n",
       "        <tr>\n",
       "            <td>playlist_track</td>\n",
       "            <td>table</td>\n",
       "        </tr>\n",
       "        <tr>\n",
       "            <td>track</td>\n",
       "            <td>table</td>\n",
       "        </tr>\n",
       "    </tbody>\n",
       "</table>"
      ],
      "text/plain": [
       "[('album', 'table'),\n",
       " ('artist', 'table'),\n",
       " ('customer', 'table'),\n",
       " ('employee', 'table'),\n",
       " ('genre', 'table'),\n",
       " ('invoice', 'table'),\n",
       " ('invoice_line', 'table'),\n",
       " ('media_type', 'table'),\n",
       " ('playlist', 'table'),\n",
       " ('playlist_track', 'table'),\n",
       " ('track', 'table')]"
      ]
     },
     "execution_count": 6,
     "metadata": {},
     "output_type": "execute_result"
    }
   ],
   "source": [
    "%%sql\n",
    "SELECT name, type\n",
    "    FROM sqlite_master\n",
    "    WHERE type in (\"table\", \"view\");"
   ]
  },
  {
   "cell_type": "markdown",
   "id": "d4fad9d4",
   "metadata": {},
   "source": [
    "### Context Questions\n",
    "1. **Write a query that gathers data about the invoice with an invoice_id of 5. Include the following columns**\n",
    "> * The id of the track, track_id.\n",
    "> * The name of the track, track_name.\n",
    "> * The name of media type of the track, track_type.\n",
    "> * The price that the customer paid for the track, unit_price.\n",
    "\n",
    "2. **Add a column containing the artists name to the query from the previous question.**\n",
    "> * The column should be called artist_name.\n",
    "> * The column should come last in the result table."
   ]
  },
  {
   "cell_type": "code",
   "execution_count": 12,
   "id": "77001522",
   "metadata": {},
   "outputs": [
    {
     "name": "stdout",
     "output_type": "stream",
     "text": [
      " * sqlite:///chinook.db\n",
      "Done.\n"
     ]
    },
    {
     "data": {
      "text/html": [
       "<table>\n",
       "    <thead>\n",
       "        <tr>\n",
       "            <th>unit_price</th>\n",
       "            <th>track_name</th>\n",
       "            <th>track_type</th>\n",
       "        </tr>\n",
       "    </thead>\n",
       "    <tbody>\n",
       "        <tr>\n",
       "            <td>0.99</td>\n",
       "            <td>Right Next Door to Hell</td>\n",
       "            <td>Protected AAC audio file</td>\n",
       "        </tr>\n",
       "        <tr>\n",
       "            <td>0.99</td>\n",
       "            <td>Dust N&#x27; Bones</td>\n",
       "            <td>Protected AAC audio file</td>\n",
       "        </tr>\n",
       "        <tr>\n",
       "            <td>0.99</td>\n",
       "            <td>Live and Let Die</td>\n",
       "            <td>Protected AAC audio file</td>\n",
       "        </tr>\n",
       "        <tr>\n",
       "            <td>0.99</td>\n",
       "            <td>Don&#x27;t Cry (Original)</td>\n",
       "            <td>Protected AAC audio file</td>\n",
       "        </tr>\n",
       "        <tr>\n",
       "            <td>0.99</td>\n",
       "            <td>Perfect Crime</td>\n",
       "            <td>Protected AAC audio file</td>\n",
       "        </tr>\n",
       "    </tbody>\n",
       "</table>"
      ],
      "text/plain": [
       "[(0.99, 'Right Next Door to Hell', 'Protected AAC audio file'),\n",
       " (0.99, \"Dust N' Bones\", 'Protected AAC audio file'),\n",
       " (0.99, 'Live and Let Die', 'Protected AAC audio file'),\n",
       " (0.99, \"Don't Cry (Original)\", 'Protected AAC audio file'),\n",
       " (0.99, 'Perfect Crime', 'Protected AAC audio file')]"
      ]
     },
     "execution_count": 12,
     "metadata": {},
     "output_type": "execute_result"
    }
   ],
   "source": [
    "%%sql\n",
    "-- QN. 1\n",
    "SELECT \n",
    "    i.unit_price,\n",
    "    t.name AS track_name,\n",
    "    mt.name AS track_type\n",
    "FROM invoice_line AS i\n",
    "INNER JOIN track AS t\n",
    "    ON i.track_id = t.track_id\n",
    "INNER JOIN media_type AS mt\n",
    "    ON t.media_type_id = mt.media_type_id\n",
    "LIMIT 5;"
   ]
  },
  {
   "cell_type": "code",
   "execution_count": 15,
   "id": "dd713566",
   "metadata": {},
   "outputs": [
    {
     "name": "stdout",
     "output_type": "stream",
     "text": [
      " * sqlite:///chinook.db\n",
      "Done.\n"
     ]
    },
    {
     "data": {
      "text/html": [
       "<table>\n",
       "    <thead>\n",
       "        <tr>\n",
       "            <th>unit_price</th>\n",
       "            <th>track_name</th>\n",
       "            <th>track_type</th>\n",
       "            <th>artist_name</th>\n",
       "        </tr>\n",
       "    </thead>\n",
       "    <tbody>\n",
       "        <tr>\n",
       "            <td>0.99</td>\n",
       "            <td>Right Next Door to Hell</td>\n",
       "            <td>Protected AAC audio file</td>\n",
       "            <td>Guns N&#x27; Roses</td>\n",
       "        </tr>\n",
       "        <tr>\n",
       "            <td>0.99</td>\n",
       "            <td>Dust N&#x27; Bones</td>\n",
       "            <td>Protected AAC audio file</td>\n",
       "            <td>Guns N&#x27; Roses</td>\n",
       "        </tr>\n",
       "        <tr>\n",
       "            <td>0.99</td>\n",
       "            <td>Live and Let Die</td>\n",
       "            <td>Protected AAC audio file</td>\n",
       "            <td>Guns N&#x27; Roses</td>\n",
       "        </tr>\n",
       "        <tr>\n",
       "            <td>0.99</td>\n",
       "            <td>Don&#x27;t Cry (Original)</td>\n",
       "            <td>Protected AAC audio file</td>\n",
       "            <td>Guns N&#x27; Roses</td>\n",
       "        </tr>\n",
       "        <tr>\n",
       "            <td>0.99</td>\n",
       "            <td>Perfect Crime</td>\n",
       "            <td>Protected AAC audio file</td>\n",
       "            <td>Guns N&#x27; Roses</td>\n",
       "        </tr>\n",
       "    </tbody>\n",
       "</table>"
      ],
      "text/plain": [
       "[(0.99, 'Right Next Door to Hell', 'Protected AAC audio file', \"Guns N' Roses\"),\n",
       " (0.99, \"Dust N' Bones\", 'Protected AAC audio file', \"Guns N' Roses\"),\n",
       " (0.99, 'Live and Let Die', 'Protected AAC audio file', \"Guns N' Roses\"),\n",
       " (0.99, \"Don't Cry (Original)\", 'Protected AAC audio file', \"Guns N' Roses\"),\n",
       " (0.99, 'Perfect Crime', 'Protected AAC audio file', \"Guns N' Roses\")]"
      ]
     },
     "execution_count": 15,
     "metadata": {},
     "output_type": "execute_result"
    }
   ],
   "source": [
    "%%sql\n",
    "-- QN. 2\n",
    "SELECT \n",
    "    i.unit_price,\n",
    "    t.name AS track_name,\n",
    "    mt.name AS track_type,\n",
    "    ar.name AS artist_name\n",
    "FROM invoice_line AS i\n",
    "INNER JOIN track AS t\n",
    "    ON i.track_id = t.track_id\n",
    "INNER JOIN media_type AS mt\n",
    "    ON t.media_type_id = mt.media_type_id\n",
    "INNER JOIN album AS al\n",
    "    ON al.album_id = t.album_id\n",
    "INNER JOIN artist AS ar\n",
    "    ON ar.artist_id = al.artist_id\n",
    "LIMIT 5;"
   ]
  },
  {
   "cell_type": "markdown",
   "id": "d3d1ee10",
   "metadata": {},
   "source": [
    "### Business Questions\n",
    "1. Write a query that returns information about each employee and their supervisor. (Include **employee_name, employee_title, supervisor_name & supervisor_title**).\n",
    "2. Which is the most selling music genre in the store?\n",
    "3. Which sales employee had the most sales?\n",
    "4. Get sales distribution by country."
   ]
  },
  {
   "cell_type": "code",
   "execution_count": null,
   "id": "f6165550",
   "metadata": {},
   "outputs": [],
   "source": []
  },
  {
   "cell_type": "code",
   "execution_count": null,
   "id": "d8d08b88",
   "metadata": {},
   "outputs": [],
   "source": []
  }
 ],
 "metadata": {
  "kernelspec": {
   "display_name": "Python 3 (ipykernel)",
   "language": "python",
   "name": "python3"
  },
  "language_info": {
   "codemirror_mode": {
    "name": "ipython",
    "version": 3
   },
   "file_extension": ".py",
   "mimetype": "text/x-python",
   "name": "python",
   "nbconvert_exporter": "python",
   "pygments_lexer": "ipython3",
   "version": "3.9.13"
  }
 },
 "nbformat": 4,
 "nbformat_minor": 5
}
